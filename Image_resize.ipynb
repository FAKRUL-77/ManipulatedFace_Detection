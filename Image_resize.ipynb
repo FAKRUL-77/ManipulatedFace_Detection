{
 "cells": [
  {
   "cell_type": "code",
   "execution_count": 1,
   "metadata": {},
   "outputs": [
    {
     "name": "stderr",
     "output_type": "stream",
     "text": [
      "Using TensorFlow backend.\n"
     ]
    }
   ],
   "source": [
    "import os\n",
    "import dlib\n",
    "from mtcnn import MTCNN\n",
    "import numpy as np\n",
    "\n",
    "manipulate_path = 'mani'\n",
    "original_path = 'original_sequences/'\n",
    "\n",
    "mvd = os.walk(manipulate_path)\n",
    "manipulated_data = []\n",
    "original_data = []\n",
    "import os\n",
    "for root, dirs, files in os.walk(manipulate_path, topdown=False):\n",
    "   for name in files:\n",
    "      directory = os.path.join(root, name)\n",
    "      manipulated_data.append(directory)\n",
    "\n",
    "for root, dirs, files in os.walk(original_path, topdown=False):\n",
    "   for name in files:\n",
    "      directory = os.path.join(root, name)\n",
    "      original_data.append(directory)"
   ]
  },
  {
   "cell_type": "code",
   "execution_count": null,
   "metadata": {},
   "outputs": [],
   "source": []
  }
 ],
 "metadata": {
  "kernelspec": {
   "display_name": "Python 3",
   "language": "python",
   "name": "python3"
  },
  "language_info": {
   "codemirror_mode": {
    "name": "ipython",
    "version": 3
   },
   "file_extension": ".py",
   "mimetype": "text/x-python",
   "name": "python",
   "nbconvert_exporter": "python",
   "pygments_lexer": "ipython3",
   "version": "3.7.9"
  }
 },
 "nbformat": 4,
 "nbformat_minor": 4
}
